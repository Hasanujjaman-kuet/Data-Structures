{
 "cells": [
  {
   "cell_type": "markdown",
   "metadata": {},
   "source": [
    "# List []"
   ]
  },
  {
   "cell_type": "code",
   "execution_count": 2,
   "metadata": {},
   "outputs": [
    {
     "name": "stdout",
     "output_type": "stream",
     "text": [
      "[1, 22.3, 45, 6, 7, 8, 9, True, False, 'Python']\n"
     ]
    }
   ],
   "source": [
    "# initializing\n",
    "data = [1, 22.3, 45, 6, 7, 8, 9, True, False, 'Python']\n",
    "print(data)"
   ]
  },
  {
   "cell_type": "code",
   "execution_count": 8,
   "metadata": {},
   "outputs": [
    {
     "data": {
      "text/plain": [
       "[1, 22.3, 45, 6, 7, 8, 9, True, False, 'Python']"
      ]
     },
     "execution_count": 8,
     "metadata": {},
     "output_type": "execute_result"
    }
   ],
   "source": [
    "# slicing\n",
    "data[2]\n",
    "data[0:8]\n",
    "#data[::-1]\n",
    "data"
   ]
  },
  {
   "cell_type": "code",
   "execution_count": 12,
   "metadata": {},
   "outputs": [
    {
     "data": {
      "text/plain": [
       "[1, 6, 46, 66, 77, 88, 99, 99, 45, 99]"
      ]
     },
     "execution_count": 12,
     "metadata": {},
     "output_type": "execute_result"
    }
   ],
   "source": [
    "# update list\n",
    "data[2] = 46\n",
    "data[3:7] = 66,77,88,99, 99\n",
    "data"
   ]
  },
  {
   "cell_type": "code",
   "execution_count": 27,
   "metadata": {},
   "outputs": [],
   "source": [
    "del data[2]\n",
    "data\n",
    "del data"
   ]
  },
  {
   "cell_type": "code",
   "execution_count": 16,
   "metadata": {},
   "outputs": [
    {
     "data": {
      "text/plain": [
       "[1, 22.3, 45, 6, 7, 8, 9]"
      ]
     },
     "execution_count": 16,
     "metadata": {},
     "output_type": "execute_result"
    }
   ],
   "source": [
    "# list methods\n",
    "data = [1, 22.3, 45, 6, 7, 8, 9]\n",
    "'''\n",
    "data.append(99)\n",
    "data.insert(2, 44)\n",
    "data.extend([23, 24, 6])\n",
    "data.index(99)\n",
    "data.count(6)\n",
    "data.pop()\n",
    "data.pop(2)\n",
    "data.remove(22.3)\n",
    "data.sort(reverse=True)\n",
    "data[::-1]\n",
    "data.reverse()\n",
    "'''\n",
    "data"
   ]
  },
  {
   "cell_type": "code",
   "execution_count": 10,
   "metadata": {},
   "outputs": [],
   "source": [
    "data.clear()"
   ]
  },
  {
   "cell_type": "markdown",
   "metadata": {},
   "source": [
    "## shallow copy and deep copy"
   ]
  },
  {
   "cell_type": "code",
   "execution_count": 17,
   "metadata": {},
   "outputs": [],
   "source": [
    "data = [1,2,3,4,5]"
   ]
  },
  {
   "cell_type": "code",
   "execution_count": 18,
   "metadata": {},
   "outputs": [],
   "source": [
    "# shallow copy\n",
    "copydata = data\n",
    "copydata.append(99)"
   ]
  },
  {
   "cell_type": "code",
   "execution_count": 49,
   "metadata": {},
   "outputs": [],
   "source": [
    "# deep copy\n",
    "deepcopy = data.copy()\n",
    "deepcopy.append(888)"
   ]
  },
  {
   "cell_type": "code",
   "execution_count": 19,
   "metadata": {},
   "outputs": [
    {
     "data": {
      "text/plain": [
       "99"
      ]
     },
     "execution_count": 19,
     "metadata": {},
     "output_type": "execute_result"
    }
   ],
   "source": [
    "data.pop()"
   ]
  },
  {
   "cell_type": "markdown",
   "metadata": {},
   "source": [
    "# Tuple()"
   ]
  },
  {
   "cell_type": "code",
   "execution_count": 25,
   "metadata": {},
   "outputs": [
    {
     "data": {
      "text/plain": [
       "(3, True)"
      ]
     },
     "execution_count": 25,
     "metadata": {},
     "output_type": "execute_result"
    }
   ],
   "source": [
    "t = (1, 2, 3, True)\n",
    "t[1]\n",
    "t[2:4]"
   ]
  },
  {
   "cell_type": "code",
   "execution_count": 26,
   "metadata": {},
   "outputs": [
    {
     "ename": "TypeError",
     "evalue": "'tuple' object does not support item assignment",
     "output_type": "error",
     "traceback": [
      "\u001b[1;31m---------------------------------------------------------------------------\u001b[0m",
      "\u001b[1;31mTypeError\u001b[0m                                 Traceback (most recent call last)",
      "\u001b[1;32me:\\GitHub, ML & DS\\Eiconic Class\\Day 3 - Types, Conversion, Data Structure\\dataStructures.ipynb Cell 15\u001b[0m in \u001b[0;36m<cell line: 1>\u001b[1;34m()\u001b[0m\n\u001b[1;32m----> <a href='vscode-notebook-cell:/e%3A/GitHub%2C%20ML%20%26%20DS/Eiconic%20Class/Day%203%20-%20Types%2C%20Conversion%2C%20Data%20Structure/dataStructures.ipynb#X20sZmlsZQ%3D%3D?line=0'>1</a>\u001b[0m t[\u001b[39m1\u001b[39m] \u001b[39m=\u001b[39m \u001b[39m22\u001b[39m\n",
      "\u001b[1;31mTypeError\u001b[0m: 'tuple' object does not support item assignment"
     ]
    }
   ],
   "source": [
    "t[1] = 22"
   ]
  },
  {
   "cell_type": "code",
   "execution_count": 56,
   "metadata": {},
   "outputs": [
    {
     "ename": "TypeError",
     "evalue": "'tuple' object doesn't support item deletion",
     "output_type": "error",
     "traceback": [
      "\u001b[1;31m---------------------------------------------------------------------------\u001b[0m",
      "\u001b[1;31mTypeError\u001b[0m                                 Traceback (most recent call last)",
      "\u001b[1;32md:\\Python\\Professional\\Machine-Learning\\MLDS1018\\1_PythonCore\\dataStructures.ipynb Cell 16'\u001b[0m in \u001b[0;36m<cell line: 1>\u001b[1;34m()\u001b[0m\n\u001b[1;32m----> <a href='vscode-notebook-cell:/d%3A/Python/Professional/Machine-Learning/MLDS1018/1_PythonCore/dataStructures.ipynb#ch0000016?line=0'>1</a>\u001b[0m \u001b[39mdel\u001b[39;00m t[\u001b[39m1\u001b[39m]\n",
      "\u001b[1;31mTypeError\u001b[0m: 'tuple' object doesn't support item deletion"
     ]
    }
   ],
   "source": [
    "del t[1]"
   ]
  },
  {
   "cell_type": "code",
   "execution_count": 57,
   "metadata": {},
   "outputs": [],
   "source": [
    "del t"
   ]
  },
  {
   "cell_type": "code",
   "execution_count": 60,
   "metadata": {},
   "outputs": [
    {
     "ename": "TypeError",
     "evalue": "'str' object does not support item assignment",
     "output_type": "error",
     "traceback": [
      "\u001b[1;31m---------------------------------------------------------------------------\u001b[0m",
      "\u001b[1;31mTypeError\u001b[0m                                 Traceback (most recent call last)",
      "\u001b[1;32md:\\Python\\Professional\\Machine-Learning\\MLDS1018\\1_PythonCore\\dataStructures.ipynb Cell 18'\u001b[0m in \u001b[0;36m<cell line: 2>\u001b[1;34m()\u001b[0m\n\u001b[0;32m      <a href='vscode-notebook-cell:/d%3A/Python/Professional/Machine-Learning/MLDS1018/1_PythonCore/dataStructures.ipynb#ch0000021?line=0'>1</a>\u001b[0m s \u001b[39m=\u001b[39m \u001b[39m'\u001b[39m\u001b[39mPython\u001b[39m\u001b[39m'\u001b[39m\n\u001b[1;32m----> <a href='vscode-notebook-cell:/d%3A/Python/Professional/Machine-Learning/MLDS1018/1_PythonCore/dataStructures.ipynb#ch0000021?line=1'>2</a>\u001b[0m s[\u001b[39m0\u001b[39m] \u001b[39m=\u001b[39m \u001b[39m'\u001b[39m\u001b[39mJ\u001b[39m\u001b[39m'\u001b[39m\n",
      "\u001b[1;31mTypeError\u001b[0m: 'str' object does not support item assignment"
     ]
    }
   ],
   "source": [
    "s = 'Python'\n",
    "s[0] = 'J'"
   ]
  },
  {
   "cell_type": "markdown",
   "metadata": {},
   "source": [
    "# "
   ]
  },
  {
   "cell_type": "markdown",
   "metadata": {},
   "source": [
    "# Set {}"
   ]
  },
  {
   "cell_type": "code",
   "execution_count": 64,
   "metadata": {},
   "outputs": [
    {
     "data": {
      "text/plain": [
       "{1, 2, 3, 4, 5, 6}"
      ]
     },
     "execution_count": 64,
     "metadata": {},
     "output_type": "execute_result"
    }
   ],
   "source": [
    "s1 = {6,1,2,2,3,4,5}\n",
    "s1"
   ]
  },
  {
   "cell_type": "code",
   "execution_count": 65,
   "metadata": {},
   "outputs": [
    {
     "ename": "TypeError",
     "evalue": "'set' object is not subscriptable",
     "output_type": "error",
     "traceback": [
      "\u001b[1;31m---------------------------------------------------------------------------\u001b[0m",
      "\u001b[1;31mTypeError\u001b[0m                                 Traceback (most recent call last)",
      "\u001b[1;32md:\\Python\\Professional\\Machine-Learning\\MLDS1018\\1_PythonCore\\dataStructures.ipynb Cell 22'\u001b[0m in \u001b[0;36m<cell line: 1>\u001b[1;34m()\u001b[0m\n\u001b[1;32m----> <a href='vscode-notebook-cell:/d%3A/Python/Professional/Machine-Learning/MLDS1018/1_PythonCore/dataStructures.ipynb#ch0000023?line=0'>1</a>\u001b[0m s1[\u001b[39m1\u001b[39;49m]\n",
      "\u001b[1;31mTypeError\u001b[0m: 'set' object is not subscriptable"
     ]
    }
   ],
   "source": [
    "s1[1]"
   ]
  },
  {
   "cell_type": "code",
   "execution_count": 27,
   "metadata": {},
   "outputs": [
    {
     "ename": "NameError",
     "evalue": "name 's1' is not defined",
     "output_type": "error",
     "traceback": [
      "\u001b[1;31m---------------------------------------------------------------------------\u001b[0m",
      "\u001b[1;31mNameError\u001b[0m                                 Traceback (most recent call last)",
      "\u001b[1;32me:\\GitHub, ML & DS\\Eiconic Class\\Day 3 - Types, Conversion, Data Structure\\dataStructures.ipynb Cell 23\u001b[0m in \u001b[0;36m<cell line: 2>\u001b[1;34m()\u001b[0m\n\u001b[0;32m      <a href='vscode-notebook-cell:/e%3A/GitHub%2C%20ML%20%26%20DS/Eiconic%20Class/Day%203%20-%20Types%2C%20Conversion%2C%20Data%20Structure/dataStructures.ipynb#X31sZmlsZQ%3D%3D?line=0'>1</a>\u001b[0m \u001b[39m# methods\u001b[39;00m\n\u001b[1;32m----> <a href='vscode-notebook-cell:/e%3A/GitHub%2C%20ML%20%26%20DS/Eiconic%20Class/Day%203%20-%20Types%2C%20Conversion%2C%20Data%20Structure/dataStructures.ipynb#X31sZmlsZQ%3D%3D?line=1'>2</a>\u001b[0m s1\u001b[39m.\u001b[39madd(\u001b[39m9\u001b[39m)\n\u001b[0;32m      <a href='vscode-notebook-cell:/e%3A/GitHub%2C%20ML%20%26%20DS/Eiconic%20Class/Day%203%20-%20Types%2C%20Conversion%2C%20Data%20Structure/dataStructures.ipynb#X31sZmlsZQ%3D%3D?line=2'>3</a>\u001b[0m s1\u001b[39m.\u001b[39mremove(\u001b[39m9\u001b[39m)\n\u001b[0;32m      <a href='vscode-notebook-cell:/e%3A/GitHub%2C%20ML%20%26%20DS/Eiconic%20Class/Day%203%20-%20Types%2C%20Conversion%2C%20Data%20Structure/dataStructures.ipynb#X31sZmlsZQ%3D%3D?line=3'>4</a>\u001b[0m s1\u001b[39m.\u001b[39mdiscard(\u001b[39m10\u001b[39m)\n",
      "\u001b[1;31mNameError\u001b[0m: name 's1' is not defined"
     ]
    }
   ],
   "source": [
    "# methods\n",
    "s1.add(9)\n",
    "s1.remove(9)\n",
    "s1.discard(10)\n",
    "s1.pop()\n",
    "s1.update({1,2,89,47,78})"
   ]
  },
  {
   "cell_type": "code",
   "execution_count": 82,
   "metadata": {},
   "outputs": [
    {
     "data": {
      "text/plain": [
       "False"
      ]
     },
     "execution_count": 82,
     "metadata": {},
     "output_type": "execute_result"
    }
   ],
   "source": [
    "s1 = {1,2,3,4,5}\n",
    "s2 = {3,4,5,6,7,8}\n",
    "s1.union(s2)\n",
    "s1.intersection(s2)\n",
    "s1.difference(s2)\n",
    "s2.difference(s1)\n",
    "s1.symmetric_difference(s2)\n",
    "s1.symmetric_difference_update(s2)\n",
    "s1.isdisjoint(s2)\n",
    "s1.issuperset(s2)\n",
    "s1.issubset(s2)"
   ]
  },
  {
   "cell_type": "code",
   "execution_count": null,
   "metadata": {},
   "outputs": [],
   "source": []
  }
 ],
 "metadata": {
  "kernelspec": {
   "display_name": "Python 3.10.4 64-bit",
   "language": "python",
   "name": "python3"
  },
  "language_info": {
   "codemirror_mode": {
    "name": "ipython",
    "version": 3
   },
   "file_extension": ".py",
   "mimetype": "text/x-python",
   "name": "python",
   "nbconvert_exporter": "python",
   "pygments_lexer": "ipython3",
   "version": "3.10.4"
  },
  "orig_nbformat": 4,
  "vscode": {
   "interpreter": {
    "hash": "26de051ba29f2982a8de78e945f0abaf191376122a1563185a90213a26c5da77"
   }
  }
 },
 "nbformat": 4,
 "nbformat_minor": 2
}
